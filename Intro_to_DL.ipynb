{
  "nbformat": 4,
  "nbformat_minor": 0,
  "metadata": {
    "colab": {
      "name": "Intro to DL.ipynb",
      "version": "0.3.2",
      "provenance": [],
      "collapsed_sections": [],
      "include_colab_link": true
    },
    "kernelspec": {
      "name": "python3",
      "display_name": "Python 3"
    },
    "accelerator": "GPU"
  },
  "cells": [
    {
      "cell_type": "markdown",
      "metadata": {
        "id": "view-in-github",
        "colab_type": "text"
      },
      "source": [
        "<a href=\"https://colab.research.google.com/github/mohammadzainabbas/AI-Decision-Support-Systems/blob/master/Intro_to_DL.ipynb\" target=\"_parent\"><img src=\"https://colab.research.google.com/assets/colab-badge.svg\" alt=\"Open In Colab\"/></a>"
      ]
    },
    {
      "metadata": {
        "id": "m0hPQ5eFsLPw",
        "colab_type": "text"
      },
      "cell_type": "markdown",
      "source": [
        "# Introduction to Deep Learning with Keras\n",
        "## Importing modules"
      ]
    },
    {
      "metadata": {
        "scrolled": true,
        "id": "HurlZgYosLP0",
        "colab_type": "code",
        "outputId": "52b9bfec-733a-4acf-a75a-c1a65d404529",
        "colab": {
          "base_uri": "https://localhost:8080/",
          "height": 51
        }
      },
      "cell_type": "code",
      "source": [
        "import numpy as np\n",
        "from numpy import linalg\n",
        "np.set_printoptions(precision=2, suppress=True, linewidth=150)\n",
        "import matplotlib.pyplot as plt\n",
        "import keras\n",
        "keras.__version__"
      ],
      "execution_count": 1,
      "outputs": [
        {
          "output_type": "stream",
          "text": [
            "Using TensorFlow backend.\n"
          ],
          "name": "stderr"
        },
        {
          "output_type": "execute_result",
          "data": {
            "text/plain": [
              "'2.2.4'"
            ]
          },
          "metadata": {
            "tags": []
          },
          "execution_count": 1
        }
      ]
    },
    {
      "metadata": {
        "id": "tNF2PauNsLP9",
        "colab_type": "text"
      },
      "cell_type": "markdown",
      "source": [
        "## Loading the MNIST dataset"
      ]
    },
    {
      "metadata": {
        "id": "BzcolbcjsLP-",
        "colab_type": "code",
        "colab": {}
      },
      "cell_type": "code",
      "source": [
        "from keras.datasets import mnist\n",
        "\n",
        "# loading and splitting into training and testing\n",
        "(x_train, y_train), (x_test, y_test) = mnist.load_data()\n",
        "\n",
        "# for referring later on ...\n",
        "(x_train_o, y_train_o), (x_test_o, y_test_o) = mnist.load_data()"
      ],
      "execution_count": 0,
      "outputs": []
    },
    {
      "metadata": {
        "id": "M9-dm8AgsLQC",
        "colab_type": "code",
        "outputId": "19f1ba6f-b1d7-4dfe-8faa-4162d3546498",
        "colab": {
          "base_uri": "https://localhost:8080/",
          "height": 51
        }
      },
      "cell_type": "code",
      "source": [
        "print(\"Training data has shape {} and Testing data's shape is {}\".format(x_train.shape, x_test.shape)) \n",
        "print(\"Total training data's labels are {} and Total testing data's labels are {}\".format(len(y_train), len(y_test))) \n"
      ],
      "execution_count": 3,
      "outputs": [
        {
          "output_type": "stream",
          "text": [
            "Training data has shape (60000, 28, 28) and Testing data's shape is (10000, 28, 28)\n",
            "Total training data's labels are 60000 and Total testing data's labels are 10000\n"
          ],
          "name": "stdout"
        }
      ]
    },
    {
      "metadata": {
        "id": "fJk_TtDCzMZV",
        "colab_type": "text"
      },
      "cell_type": "markdown",
      "source": [
        "### Some display function"
      ]
    },
    {
      "metadata": {
        "id": "rrr8LdF_zazT",
        "colab_type": "code",
        "colab": {}
      },
      "cell_type": "code",
      "source": [
        "def Display_Image_Matrix(image_matrix, pic_num):\n",
        "  print(np.matrix(image_matrix[pic_num]))"
      ],
      "execution_count": 0,
      "outputs": []
    },
    {
      "metadata": {
        "id": "RO8YZERHsLQa",
        "colab_type": "code",
        "colab": {}
      },
      "cell_type": "code",
      "source": [
        "def Show_Pic_and_Value(image_matrix, label_vector, pic_num):\n",
        "  plt.imshow(image_matrix[pic_num], cmap=plt.cm.binary)\n",
        "  print(label_vector[pic_num])"
      ],
      "execution_count": 0,
      "outputs": []
    },
    {
      "metadata": {
        "id": "9VZJ84pS2yia",
        "colab_type": "text"
      },
      "cell_type": "markdown",
      "source": [
        "#### Checking some training images"
      ]
    },
    {
      "metadata": {
        "id": "j169ahwUsLQg",
        "colab_type": "code",
        "outputId": "56554f6e-1435-497d-e915-6ebc0aac4507",
        "colab": {
          "base_uri": "https://localhost:8080/",
          "height": 840
        }
      },
      "cell_type": "code",
      "source": [
        "pic_num = 57699\n",
        "Show_Pic_and_Value(x_train, y_train, pic_num)\n",
        "Display_Image_Matrix(x_train, pic_num)\n",
        "\n"
      ],
      "execution_count": 6,
      "outputs": [
        {
          "output_type": "stream",
          "text": [
            "9\n",
            "[[  0   0   0   0   0   0   0   0   0   0   0   0   0   0   0   0   0   0   0   0   0   0   0   0   0   0   0   0]\n",
            " [  0   0   0   0   0   0   0   0   0   0   0   0   0   0   0   0   0   0   0   0   0   0   0   0   0   0   0   0]\n",
            " [  0   0   0   0   0   0   0   0   0   0   0   0   0   0   0   0   0   0   0   0   0   0   0   0   0   0   0   0]\n",
            " [  0   0   0   0   0   0   0   0   0   0   0   0   0   0   0   0   0   0   0   0   0   0   0   0   0   0   0   0]\n",
            " [  0   0   0   0   0   0   0   0   0   0   0   0   0   0   0   0   0   0   0   0   0   0   0   0   0   0   0   0]\n",
            " [  0   0   0   0   0   0   0   0   0   0   0   0   0   0   0   0   0   0   0   0   0   0   0   0   0   0   0   0]\n",
            " [  0   0   0   0   0   0   0   0   0   0   0  26 128 178 245 161 162 144  13   0   0   0   0   0   0   0   0   0]\n",
            " [  0   0   0   0   0   0   0   0   0  26 164 239 254 253 253 253 254 253 226  38   0   0   0   0   0   0   0   0]\n",
            " [  0   0   0   0   0   0   0   0  83 224 253 202 113  46  46  46 138 226 253  69   0   0   0   0   0   0   0   0]\n",
            " [  0   0   0   0   0   0   0 134 254 253 135  19   0   0   0   0   0  13 186  69  93   9   0   0   0   0   0   0]\n",
            " [  0   0   0   0   0   0  49 254 236  50   0   0   0   0   0   0   0   0   0 185 255 173   0   0   0   0   0   0]\n",
            " [  0   0   0   0   0   0 166 253 101   0   0   0   0   0   0   0   0   0  30 222 254 123   0   0   0   0   0   0]\n",
            " [  0   0   0   0   0   0 207 253  51   0   0   0   0   0   0   0   0   5 195 253 214  29   0   0   0   0   0   0]\n",
            " [  0   0   0   0   0   0 207 253  34   0   0   0   0   0   0   0  26 189 253 253  59   0   0   0   0   0   0   0]\n",
            " [  0   0   0   0   0   0 208 254 136  32   0   0   0   0  57 104 254 254 254 169   0   0   0   0   0   0   0   0]\n",
            " [  0   0   0   0   0   0  69 240 254 241 222 138 139 222 249 253 254 253 223  31   0   0   0   0   0   0   0   0]\n",
            " [  0   0   0   0   0   0   0  34 105 221 230 238 230 179 129  46 254 253  62   0   0   0   0   0   0   0   0   0]\n",
            " [  0   0   0   0   0   0   0   0   0   0   0  25   0   0   0  68 254 219  13   0   0   0   0   0   0   0   0   0]\n",
            " [  0   0   0   0   0   0   0   0   0   0   0   0   0   0  15 229 254  90   0   0   0   0   0   0   0   0   0   0]\n",
            " [  0   0   0   0   0   0   0   0   0   0   0   0   0   9 166 253 199  11   0   0   0   0   0   0   0   0   0   0]\n",
            " [  0   0   0   0   0   0   0   0   0   0   0   0   0  55 253 253  25   0   0   0   0   0   0   0   0   0   0   0]\n",
            " [  0   0   0   0   0   0   0   0   0   0   0   0  26 214 253 253 159   0   0   0   0   0   0   0   0   0   0   0]\n",
            " [  0   0   0   0   0   0   0   0   0   0   0   0 128 254 254 228  34   0   0   0   0   0   0   0   0   0   0   0]\n",
            " [  0   0   0   0   0   0   0   0   0   0   0  51 245 253 240  40   0   0   0   0   0   0   0   0   0   0   0   0]\n",
            " [  0   0   0   0   0   0   0   0   0   0   0  93 254 232  58   0   0   0   0   0   0   0   0   0   0   0   0   0]\n",
            " [  0   0   0   0   0   0   0   0   0   0   0  59 220 139   0   0   0   0   0   0   0   0   0   0   0   0   0   0]\n",
            " [  0   0   0   0   0   0   0   0   0   0   0   0   0   0   0   0   0   0   0   0   0   0   0   0   0   0   0   0]\n",
            " [  0   0   0   0   0   0   0   0   0   0   0   0   0   0   0   0   0   0   0   0   0   0   0   0   0   0   0   0]]\n"
          ],
          "name": "stdout"
        },
        {
          "output_type": "display_data",
          "data": {
            "image/png": "[encoded data removed]",
            "text/plain": [
              "<matplotlib.figure.Figure at 0x7fc00a32b0b8>"
            ]
          },
          "metadata": {
            "tags": []
          }
        }
      ]
    },
    {
      "metadata": {
        "id": "Tj0-FV5I2nV8",
        "colab_type": "text"
      },
      "cell_type": "markdown",
      "source": [
        "#### Now, checking some test images"
      ]
    },
    {
      "metadata": {
        "id": "mwFRAT8hsLQv",
        "colab_type": "code",
        "outputId": "36c492d4-910f-4642-ab1d-2d002e639fb5",
        "colab": {
          "base_uri": "https://localhost:8080/",
          "height": 840
        }
      },
      "cell_type": "code",
      "source": [
        "pic_num = 11\n",
        "Show_Pic_and_Value(x_test, y_test, pic_num)\n",
        "Display_Image_Matrix(x_test, pic_num)"
      ],
      "execution_count": 7,
      "outputs": [
        {
          "output_type": "stream",
          "text": [
            "6\n",
            "[[  0   0   0   0   0   0   0   0   0   0   0   0   0   0   0   0   0   0   0   0   0   0   0   0   0   0   0   0]\n",
            " [  0   0   0   0   0   0   0   0   0   0   0   0   0   0   0   0   0   0   0   0   0   0   0   0   0   0   0   0]\n",
            " [  0   0   0   0   0   0   0   0   0   0   0   0   0   0   0   0   0   0   0   0   0   0   0   0   0   0   0   0]\n",
            " [  0   0   0   0   0   0   0   0   0   0   7 204 253 176   0   0   0   0   0   0   0   0   0   0   0   0   0   0]\n",
            " [  0   0   0   0   0   0   0   0   0   7 150 252 252 125   0   0   0   0   0   0   0   0   0   0   0   0   0   0]\n",
            " [  0   0   0   0   0   0   0   0   0 117 252 186  56   0   0   0   0   0   0   0   0   0   0   0   0   0   0   0]\n",
            " [  0   0   0   0   0   0   0   0   0 141 252 118   0   0   0   0   0   0   0   0   0   0   0   0   0   0   0   0]\n",
            " [  0   0   0   0   0   0   0   0   0 154 247  50   0   0   0   0   0   0   0   0   0   0   0   0   0   0   0   0]\n",
            " [  0   0   0   0   0   0   0   0  26 253 196   0   0   0   0   0   0   0   0   0   0   0   0   0   0   0   0   0]\n",
            " [  0   0   0   0   0   0   0   0 150 253 196   0   0   0   0   0   0   0  57  85  85  38   0   0   0   0   0   0]\n",
            " [  0   0   0   0   0   0   0   0 225 253  96   0   0   0   0   0 151 226 243 252 252 238 125   0   0   0   0   0]\n",
            " [  0   0   0   0   0   0   0  10 229 226   0   0   0   4  54 229 253 255 234 175 225 255 228  31   0   0   0   0]\n",
            " [  0   0   0   0   0   0   0 110 252 150   0   0  26 128 252 252 227 134  28   0   0 178 252  56   0   0   0   0]\n",
            " [  0   0   0   0   0   0   0 159 252 113   0   0 150 253 252 186  43   0   0   0   0 141 252  56   0   0   0   0]\n",
            " [  0   0   0   0   0   0   0 185 252 113   0  38 237 253 151   6   0   0   0   0   0 141 202   6   0   0   0   0]\n",
            " [  0   0   0   0   0   0   0 198 253 114   0 147 253 163   0   0   0   0   0   0   0 154 197   0   0   0   0   0]\n",
            " [  0   0   0   0   0   0   0 197 252 113   0 172 252 188   0   0   0   0   0   0  26 253 171   0   0   0   0   0]\n",
            " [  0   0   0   0   0   0   0 197 252 113   0  19 231 247 122  19   0   0   0   0 200 244  56   0   0   0   0   0]\n",
            " [  0   0   0   0   0   0  26 222 252 113   0   0  25 203 252 193  13   0  76 200 249 125   0   0   0   0   0   0]\n",
            " [  0   0   0   0   0   0   0 185 253 179  10   0   0   0  76  35  29 154 253 244 125   0   0   0   0   0   0   0]\n",
            " [  0   0   0   0   0   0   0  28 209 253 196  82  57  57 131 197 252 253 214  81   0   0   0   0   0   0   0   0]\n",
            " [  0   0   0   0   0   0   0   0  25 216 252 252 252 253 252 252 252 156  19   0   0   0   0   0   0   0   0   0]\n",
            " [  0   0   0   0   0   0   0   0   0  16 103 139 240 140 139 139  40   0   0   0   0   0   0   0   0   0   0   0]\n",
            " [  0   0   0   0   0   0   0   0   0   0   0   0   0   0   0   0   0   0   0   0   0   0   0   0   0   0   0   0]\n",
            " [  0   0   0   0   0   0   0   0   0   0   0   0   0   0   0   0   0   0   0   0   0   0   0   0   0   0   0   0]\n",
            " [  0   0   0   0   0   0   0   0   0   0   0   0   0   0   0   0   0   0   0   0   0   0   0   0   0   0   0   0]\n",
            " [  0   0   0   0   0   0   0   0   0   0   0   0   0   0   0   0   0   0   0   0   0   0   0   0   0   0   0   0]\n",
            " [  0   0   0   0   0   0   0   0   0   0   0   0   0   0   0   0   0   0   0   0   0   0   0   0   0   0   0   0]]\n"
          ],
          "name": "stdout"
        },
        {
          "output_type": "display_data",
          "data": {
            "image/png": "[encoded data removed]",
            "text/plain": [
              "<matplotlib.figure.Figure at 0x7fc00a34a5c0>"
            ]
          },
          "metadata": {
            "tags": []
          }
        }
      ]
    },
    {
      "metadata": {
        "id": "rdwYsD4H3Iib",
        "colab_type": "text"
      },
      "cell_type": "markdown",
      "source": [
        "##### Normalizing images "
      ]
    },
    {
      "metadata": {
        "id": "OICeQJco3ZIw",
        "colab_type": "code",
        "outputId": "23c8a9e3-de23-4d49-c523-092b79bf6e6a",
        "colab": {
          "base_uri": "https://localhost:8080/",
          "height": 51
        }
      },
      "cell_type": "code",
      "source": [
        "print(\"Training images are {} and Testing images are {}\".format(x_train.dtype, x_test.dtype)) \n",
        "print(\"{} datatype has min value of {} and max value of {}\".format(x_train.dtype, np.iinfo(x_train.dtype).min, np.iinfo(x_train.dtype).max))"
      ],
      "execution_count": 8,
      "outputs": [
        {
          "output_type": "stream",
          "text": [
            "Training images are uint8 and Testing images are uint8\n",
            "uint8 datatype has min value of 0 and max value of 255\n"
          ],
          "name": "stdout"
        }
      ]
    },
    {
      "metadata": {
        "id": "F3HqW4pAsLQ0",
        "colab_type": "code",
        "colab": {}
      },
      "cell_type": "code",
      "source": [
        "x_train = x_train.astype('float32')\n",
        "x_test = x_test.astype('float32')\n",
        "\n",
        "x_train /= np.iinfo('uint8').max\n",
        "x_test /= np.iinfo('uint8').max"
      ],
      "execution_count": 0,
      "outputs": []
    },
    {
      "metadata": {
        "id": "E2wEHefp4Fyc",
        "colab_type": "code",
        "outputId": "564d0e40-9386-4aee-e3ca-21786f6dde05",
        "colab": {
          "base_uri": "https://localhost:8080/",
          "height": 34
        }
      },
      "cell_type": "code",
      "source": [
        "print(\"Training images are {} and Testing images are {}\".format(x_train.dtype, x_test.dtype)) \n",
        "#print(\"{} datatype has min value of {} and max value of {}\".format(x_train.dtype, np.finfo(x_train.dtype).min, np.finfo(x_train.dtype).max))"
      ],
      "execution_count": 10,
      "outputs": [
        {
          "output_type": "stream",
          "text": [
            "Training images are float32 and Testing images are float32\n"
          ],
          "name": "stdout"
        }
      ]
    },
    {
      "metadata": {
        "id": "z2oF6m4jsLQ5",
        "colab_type": "code",
        "outputId": "2392e158-c7e8-487f-eb49-2399e157b3c6",
        "colab": {
          "base_uri": "https://localhost:8080/",
          "height": 840
        }
      },
      "cell_type": "code",
      "source": [
        "pic_num = 11\n",
        "Show_Pic_and_Value(x_test, y_test, pic_num)\n",
        "Display_Image_Matrix(x_test, pic_num)"
      ],
      "execution_count": 11,
      "outputs": [
        {
          "output_type": "stream",
          "text": [
            "6\n",
            "[[0.   0.   0.   0.   0.   0.   0.   0.   0.   0.   0.   0.   0.   0.   0.   0.   0.   0.   0.   0.   0.   0.   0.   0.   0.   0.   0.   0.  ]\n",
            " [0.   0.   0.   0.   0.   0.   0.   0.   0.   0.   0.   0.   0.   0.   0.   0.   0.   0.   0.   0.   0.   0.   0.   0.   0.   0.   0.   0.  ]\n",
            " [0.   0.   0.   0.   0.   0.   0.   0.   0.   0.   0.   0.   0.   0.   0.   0.   0.   0.   0.   0.   0.   0.   0.   0.   0.   0.   0.   0.  ]\n",
            " [0.   0.   0.   0.   0.   0.   0.   0.   0.   0.   0.03 0.8  0.99 0.69 0.   0.   0.   0.   0.   0.   0.   0.   0.   0.   0.   0.   0.   0.  ]\n",
            " [0.   0.   0.   0.   0.   0.   0.   0.   0.   0.03 0.59 0.99 0.99 0.49 0.   0.   0.   0.   0.   0.   0.   0.   0.   0.   0.   0.   0.   0.  ]\n",
            " [0.   0.   0.   0.   0.   0.   0.   0.   0.   0.46 0.99 0.73 0.22 0.   0.   0.   0.   0.   0.   0.   0.   0.   0.   0.   0.   0.   0.   0.  ]\n",
            " [0.   0.   0.   0.   0.   0.   0.   0.   0.   0.55 0.99 0.46 0.   0.   0.   0.   0.   0.   0.   0.   0.   0.   0.   0.   0.   0.   0.   0.  ]\n",
            " [0.   0.   0.   0.   0.   0.   0.   0.   0.   0.6  0.97 0.2  0.   0.   0.   0.   0.   0.   0.   0.   0.   0.   0.   0.   0.   0.   0.   0.  ]\n",
            " [0.   0.   0.   0.   0.   0.   0.   0.   0.1  0.99 0.77 0.   0.   0.   0.   0.   0.   0.   0.   0.   0.   0.   0.   0.   0.   0.   0.   0.  ]\n",
            " [0.   0.   0.   0.   0.   0.   0.   0.   0.59 0.99 0.77 0.   0.   0.   0.   0.   0.   0.   0.22 0.33 0.33 0.15 0.   0.   0.   0.   0.   0.  ]\n",
            " [0.   0.   0.   0.   0.   0.   0.   0.   0.88 0.99 0.38 0.   0.   0.   0.   0.   0.59 0.89 0.95 0.99 0.99 0.93 0.49 0.   0.   0.   0.   0.  ]\n",
            " [0.   0.   0.   0.   0.   0.   0.   0.04 0.9  0.89 0.   0.   0.   0.02 0.21 0.9  0.99 1.   0.92 0.69 0.88 1.   0.89 0.12 0.   0.   0.   0.  ]\n",
            " [0.   0.   0.   0.   0.   0.   0.   0.43 0.99 0.59 0.   0.   0.1  0.5  0.99 0.99 0.89 0.53 0.11 0.   0.   0.7  0.99 0.22 0.   0.   0.   0.  ]\n",
            " [0.   0.   0.   0.   0.   0.   0.   0.62 0.99 0.44 0.   0.   0.59 0.99 0.99 0.73 0.17 0.   0.   0.   0.   0.55 0.99 0.22 0.   0.   0.   0.  ]\n",
            " [0.   0.   0.   0.   0.   0.   0.   0.73 0.99 0.44 0.   0.15 0.93 0.99 0.59 0.02 0.   0.   0.   0.   0.   0.55 0.79 0.02 0.   0.   0.   0.  ]\n",
            " [0.   0.   0.   0.   0.   0.   0.   0.78 0.99 0.45 0.   0.58 0.99 0.64 0.   0.   0.   0.   0.   0.   0.   0.6  0.77 0.   0.   0.   0.   0.  ]\n",
            " [0.   0.   0.   0.   0.   0.   0.   0.77 0.99 0.44 0.   0.67 0.99 0.74 0.   0.   0.   0.   0.   0.   0.1  0.99 0.67 0.   0.   0.   0.   0.  ]\n",
            " [0.   0.   0.   0.   0.   0.   0.   0.77 0.99 0.44 0.   0.07 0.91 0.97 0.48 0.07 0.   0.   0.   0.   0.78 0.96 0.22 0.   0.   0.   0.   0.  ]\n",
            " [0.   0.   0.   0.   0.   0.   0.1  0.87 0.99 0.44 0.   0.   0.1  0.8  0.99 0.76 0.05 0.   0.3  0.78 0.98 0.49 0.   0.   0.   0.   0.   0.  ]\n",
            " [0.   0.   0.   0.   0.   0.   0.   0.73 0.99 0.7  0.04 0.   0.   0.   0.3  0.14 0.11 0.6  0.99 0.96 0.49 0.   0.   0.   0.   0.   0.   0.  ]\n",
            " [0.   0.   0.   0.   0.   0.   0.   0.11 0.82 0.99 0.77 0.32 0.22 0.22 0.51 0.77 0.99 0.99 0.84 0.32 0.   0.   0.   0.   0.   0.   0.   0.  ]\n",
            " [0.   0.   0.   0.   0.   0.   0.   0.   0.1  0.85 0.99 0.99 0.99 0.99 0.99 0.99 0.99 0.61 0.07 0.   0.   0.   0.   0.   0.   0.   0.   0.  ]\n",
            " [0.   0.   0.   0.   0.   0.   0.   0.   0.   0.06 0.4  0.55 0.94 0.55 0.55 0.55 0.16 0.   0.   0.   0.   0.   0.   0.   0.   0.   0.   0.  ]\n",
            " [0.   0.   0.   0.   0.   0.   0.   0.   0.   0.   0.   0.   0.   0.   0.   0.   0.   0.   0.   0.   0.   0.   0.   0.   0.   0.   0.   0.  ]\n",
            " [0.   0.   0.   0.   0.   0.   0.   0.   0.   0.   0.   0.   0.   0.   0.   0.   0.   0.   0.   0.   0.   0.   0.   0.   0.   0.   0.   0.  ]\n",
            " [0.   0.   0.   0.   0.   0.   0.   0.   0.   0.   0.   0.   0.   0.   0.   0.   0.   0.   0.   0.   0.   0.   0.   0.   0.   0.   0.   0.  ]\n",
            " [0.   0.   0.   0.   0.   0.   0.   0.   0.   0.   0.   0.   0.   0.   0.   0.   0.   0.   0.   0.   0.   0.   0.   0.   0.   0.   0.   0.  ]\n",
            " [0.   0.   0.   0.   0.   0.   0.   0.   0.   0.   0.   0.   0.   0.   0.   0.   0.   0.   0.   0.   0.   0.   0.   0.   0.   0.   0.   0.  ]]\n"
          ],
          "name": "stdout"
        },
        {
          "output_type": "display_data",
          "data": {
            "image/png": "[encoded data removed]",
            "text/plain": [
              "<matplotlib.figure.Figure at 0x7fc00a389ef0>"
            ]
          },
          "metadata": {
            "tags": []
          }
        }
      ]
    },
    {
      "metadata": {
        "id": "8otg149B7B0Y",
        "colab_type": "text"
      },
      "cell_type": "markdown",
      "source": [
        "### 2D Image to 1D Vector"
      ]
    },
    {
      "metadata": {
        "id": "x61mUj-xsLRA",
        "colab_type": "code",
        "outputId": "bdd88e04-682f-4aaa-e5f3-733a659e1d15",
        "colab": {
          "base_uri": "https://localhost:8080/",
          "height": 51
        }
      },
      "cell_type": "code",
      "source": [
        "print(\"Before: Training data has shape {} and Testing data's shape is {}\".format(x_train.shape, x_test.shape)) \n",
        "\n",
        "x_train = x_train.reshape(x_train.shape[0], x_train.shape[1]*x_train.shape[2])\n",
        "x_test = x_test.reshape(x_test.shape[0], x_test.shape[1]*x_test.shape[2])\n",
        "\n",
        "print(\"After: Training data has shape {} and Testing data's shape is {}\".format(x_train.shape, x_test.shape)) "
      ],
      "execution_count": 12,
      "outputs": [
        {
          "output_type": "stream",
          "text": [
            "Before: Training data has shape (60000, 28, 28) and Testing data's shape is (10000, 28, 28)\n",
            "After: Training data has shape (60000, 784) and Testing data's shape is (10000, 784)\n"
          ],
          "name": "stdout"
        }
      ]
    },
    {
      "metadata": {
        "id": "r65wfscp9JY8",
        "colab_type": "text"
      },
      "cell_type": "markdown",
      "source": [
        "#### Converting to categorial labels (for classification purposes)"
      ]
    },
    {
      "metadata": {
        "id": "OlXeHz8lsLRe",
        "colab_type": "code",
        "outputId": "17e96dfe-dd12-4d04-ee1a-1d0edc7a139e",
        "colab": {
          "base_uri": "https://localhost:8080/",
          "height": 51
        }
      },
      "cell_type": "code",
      "source": [
        "from keras.utils import to_categorical\n",
        "\n",
        "print(\"Before: Label was {}\".format(y_train[0])) \n",
        "\n",
        "c_y_train = to_categorical(y_train, num_classes=10)\n",
        "c_y_test = to_categorical(y_test, num_classes=10)\n",
        "\n",
        "print(\"After: Label was {}\".format(c_y_train[0])) "
      ],
      "execution_count": 13,
      "outputs": [
        {
          "output_type": "stream",
          "text": [
            "Before: Label was 5\n",
            "After: Label was [0. 0. 0. 0. 0. 1. 0. 0. 0. 0.]\n"
          ],
          "name": "stdout"
        }
      ]
    },
    {
      "metadata": {
        "id": "0qEhONhpsLR3",
        "colab_type": "code",
        "outputId": "4f450089-123e-415d-f9fb-c8974242a11b",
        "colab": {
          "base_uri": "https://localhost:8080/",
          "height": 34
        }
      },
      "cell_type": "code",
      "source": [
        "print(\"Training data's label has shape {} and Testing data's label shape is {}\".format(c_y_train.shape, c_y_test.shape)) "
      ],
      "execution_count": 14,
      "outputs": [
        {
          "output_type": "stream",
          "text": [
            "Training data's label has shape (60000, 10) and Testing data's label shape is (10000, 10)\n"
          ],
          "name": "stdout"
        }
      ]
    },
    {
      "metadata": {
        "id": "29LHG7jNsLR9",
        "colab_type": "text"
      },
      "cell_type": "markdown",
      "source": [
        "#### Model defining with Keras"
      ]
    },
    {
      "metadata": {
        "id": "qoiQVGiMsLR_",
        "colab_type": "code",
        "outputId": "c853b772-5c00-4b57-eb49-aecbe850f639",
        "colab": {
          "base_uri": "https://localhost:8080/",
          "height": 204
        }
      },
      "cell_type": "code",
      "source": [
        "from keras.models import Sequential\n",
        "from keras.utils import plot_model\n",
        "from keras.layers import Dense, Activation, Convolution2D, MaxPooling2D, Flatten\n",
        "from keras.optimizers import sgd\n",
        "\n",
        "model = Sequential()\n",
        "model.add(Dense(100, activation='sigmoid', input_shape=(784,)))\n",
        "model.add(Dense(10, activation='softmax'))\n",
        "\n",
        "model.summary()\n",
        "\n",
        "plot_model(model,to_file='model.png',show_shapes=True, show_layer_names=True)"
      ],
      "execution_count": 15,
      "outputs": [
        {
          "output_type": "stream",
          "text": [
            "_________________________________________________________________\n",
            "Layer (type)                 Output Shape              Param #   \n",
            "=================================================================\n",
            "dense_1 (Dense)              (None, 100)               78500     \n",
            "_________________________________________________________________\n",
            "dense_2 (Dense)              (None, 10)                1010      \n",
            "=================================================================\n",
            "Total params: 79,510\n",
            "Trainable params: 79,510\n",
            "Non-trainable params: 0\n",
            "_________________________________________________________________\n"
          ],
          "name": "stdout"
        }
      ]
    },
    {
      "metadata": {
        "id": "uWgYLO77sLSH",
        "colab_type": "text"
      },
      "cell_type": "markdown",
      "source": [
        "\n",
        "#### Definition model parameters, training and evaluation\n"
      ]
    },
    {
      "metadata": {
        "id": "sv0sUIAhsLSI",
        "colab_type": "code",
        "outputId": "6e956efb-95fe-4e54-fdd7-8606b1c2a7e0",
        "colab": {
          "base_uri": "https://localhost:8080/",
          "height": 408
        }
      },
      "cell_type": "code",
      "source": [
        "#The batch size is a number of samples processed before the model is updated.\n",
        "#The number of epochs is the number of complete passes through the training dataset.\n",
        "\n",
        "batch_size = 256\n",
        "num_classes = 10\n",
        "epochs = 10\n",
        "\n",
        "model.compile(loss='categorical_crossentropy',\n",
        "              optimizer='sgd',\n",
        "              metrics=['accuracy'])\n",
        "\n",
        "history = model.fit(x_train, c_y_train,\n",
        "          batch_size=batch_size,\n",
        "          epochs=epochs,\n",
        "          verbose=1\n",
        "          )\n",
        "\n",
        "test_loss, test_acc = model.evaluate(x_test, c_y_test)\n",
        "\n",
        "print('Test loss:', test_loss)\n",
        "print('Test accuracy:', test_acc)"
      ],
      "execution_count": 16,
      "outputs": [
        {
          "output_type": "stream",
          "text": [
            "Epoch 1/10\n",
            "60000/60000 [==============================] - 3s 54us/step - loss: 2.1964 - acc: 0.3410\n",
            "Epoch 2/10\n",
            "60000/60000 [==============================] - 1s 19us/step - loss: 1.9127 - acc: 0.6478\n",
            "Epoch 3/10\n",
            "60000/60000 [==============================] - 1s 18us/step - loss: 1.6731 - acc: 0.7188\n",
            "Epoch 4/10\n",
            "60000/60000 [==============================] - 1s 18us/step - loss: 1.4628 - acc: 0.7614\n",
            "Epoch 5/10\n",
            "60000/60000 [==============================] - 1s 18us/step - loss: 1.2870 - acc: 0.7860\n",
            "Epoch 6/10\n",
            "60000/60000 [==============================] - 1s 18us/step - loss: 1.1446 - acc: 0.8036\n",
            "Epoch 7/10\n",
            "60000/60000 [==============================] - 1s 18us/step - loss: 1.0309 - acc: 0.8164\n",
            "Epoch 8/10\n",
            "60000/60000 [==============================] - 1s 18us/step - loss: 0.9402 - acc: 0.8264\n",
            "Epoch 9/10\n",
            "60000/60000 [==============================] - 1s 18us/step - loss: 0.8671 - acc: 0.8341\n",
            "Epoch 10/10\n",
            "60000/60000 [==============================] - 1s 18us/step - loss: 0.8076 - acc: 0.8406\n",
            "10000/10000 [==============================] - 1s 53us/step\n",
            "Test loss: 0.7621429103851318\n",
            "Test accuracy: 0.8507\n"
          ],
          "name": "stdout"
        }
      ]
    },
    {
      "metadata": {
        "id": "YC6ZyWgHsLSM",
        "colab_type": "text"
      },
      "cell_type": "markdown",
      "source": [
        "### Prediction on Testing data"
      ]
    },
    {
      "metadata": {
        "id": "mAll4OBnsLSN",
        "colab_type": "code",
        "colab": {}
      },
      "cell_type": "code",
      "source": [
        "predictions = model.predict(x_test)"
      ],
      "execution_count": 0,
      "outputs": []
    },
    {
      "metadata": {
        "id": "1i_YhxyOEFPz",
        "colab_type": "code",
        "outputId": "4abf1dd2-e395-45f6-f85e-2faa7bd60e7b",
        "colab": {
          "base_uri": "https://localhost:8080/",
          "height": 34
        }
      },
      "cell_type": "code",
      "source": [
        "predictions.shape"
      ],
      "execution_count": 18,
      "outputs": [
        {
          "output_type": "execute_result",
          "data": {
            "text/plain": [
              "(10000, 10)"
            ]
          },
          "metadata": {
            "tags": []
          },
          "execution_count": 18
        }
      ]
    },
    {
      "metadata": {
        "id": "w9dsqXl6Gv6C",
        "colab_type": "code",
        "colab": {}
      },
      "cell_type": "code",
      "source": [
        "def Display_Predict_Value(pred, pic_num):\n",
        "  print(\"Predicted Value for image {} is {}\".format(pic_num, np.argmax(predictions[pic_num])))"
      ],
      "execution_count": 0,
      "outputs": []
    },
    {
      "metadata": {
        "id": "_YiYI-rrsLSS",
        "colab_type": "code",
        "outputId": "0bbebafd-08e7-4e69-95f1-8a3ef3171f65",
        "colab": {
          "base_uri": "https://localhost:8080/",
          "height": 857
        }
      },
      "cell_type": "code",
      "source": [
        "pic_num = 11\n",
        "Display_Predict_Value(predictions, pic_num)\n",
        "Show_Pic_and_Value(x_test_o, y_test_o, pic_num)\n",
        "Display_Image_Matrix(x_test_o, pic_num)"
      ],
      "execution_count": 20,
      "outputs": [
        {
          "output_type": "stream",
          "text": [
            "Predicted Value for image 11 is 6\n",
            "6\n",
            "[[  0   0   0   0   0   0   0   0   0   0   0   0   0   0   0   0   0   0   0   0   0   0   0   0   0   0   0   0]\n",
            " [  0   0   0   0   0   0   0   0   0   0   0   0   0   0   0   0   0   0   0   0   0   0   0   0   0   0   0   0]\n",
            " [  0   0   0   0   0   0   0   0   0   0   0   0   0   0   0   0   0   0   0   0   0   0   0   0   0   0   0   0]\n",
            " [  0   0   0   0   0   0   0   0   0   0   7 204 253 176   0   0   0   0   0   0   0   0   0   0   0   0   0   0]\n",
            " [  0   0   0   0   0   0   0   0   0   7 150 252 252 125   0   0   0   0   0   0   0   0   0   0   0   0   0   0]\n",
            " [  0   0   0   0   0   0   0   0   0 117 252 186  56   0   0   0   0   0   0   0   0   0   0   0   0   0   0   0]\n",
            " [  0   0   0   0   0   0   0   0   0 141 252 118   0   0   0   0   0   0   0   0   0   0   0   0   0   0   0   0]\n",
            " [  0   0   0   0   0   0   0   0   0 154 247  50   0   0   0   0   0   0   0   0   0   0   0   0   0   0   0   0]\n",
            " [  0   0   0   0   0   0   0   0  26 253 196   0   0   0   0   0   0   0   0   0   0   0   0   0   0   0   0   0]\n",
            " [  0   0   0   0   0   0   0   0 150 253 196   0   0   0   0   0   0   0  57  85  85  38   0   0   0   0   0   0]\n",
            " [  0   0   0   0   0   0   0   0 225 253  96   0   0   0   0   0 151 226 243 252 252 238 125   0   0   0   0   0]\n",
            " [  0   0   0   0   0   0   0  10 229 226   0   0   0   4  54 229 253 255 234 175 225 255 228  31   0   0   0   0]\n",
            " [  0   0   0   0   0   0   0 110 252 150   0   0  26 128 252 252 227 134  28   0   0 178 252  56   0   0   0   0]\n",
            " [  0   0   0   0   0   0   0 159 252 113   0   0 150 253 252 186  43   0   0   0   0 141 252  56   0   0   0   0]\n",
            " [  0   0   0   0   0   0   0 185 252 113   0  38 237 253 151   6   0   0   0   0   0 141 202   6   0   0   0   0]\n",
            " [  0   0   0   0   0   0   0 198 253 114   0 147 253 163   0   0   0   0   0   0   0 154 197   0   0   0   0   0]\n",
            " [  0   0   0   0   0   0   0 197 252 113   0 172 252 188   0   0   0   0   0   0  26 253 171   0   0   0   0   0]\n",
            " [  0   0   0   0   0   0   0 197 252 113   0  19 231 247 122  19   0   0   0   0 200 244  56   0   0   0   0   0]\n",
            " [  0   0   0   0   0   0  26 222 252 113   0   0  25 203 252 193  13   0  76 200 249 125   0   0   0   0   0   0]\n",
            " [  0   0   0   0   0   0   0 185 253 179  10   0   0   0  76  35  29 154 253 244 125   0   0   0   0   0   0   0]\n",
            " [  0   0   0   0   0   0   0  28 209 253 196  82  57  57 131 197 252 253 214  81   0   0   0   0   0   0   0   0]\n",
            " [  0   0   0   0   0   0   0   0  25 216 252 252 252 253 252 252 252 156  19   0   0   0   0   0   0   0   0   0]\n",
            " [  0   0   0   0   0   0   0   0   0  16 103 139 240 140 139 139  40   0   0   0   0   0   0   0   0   0   0   0]\n",
            " [  0   0   0   0   0   0   0   0   0   0   0   0   0   0   0   0   0   0   0   0   0   0   0   0   0   0   0   0]\n",
            " [  0   0   0   0   0   0   0   0   0   0   0   0   0   0   0   0   0   0   0   0   0   0   0   0   0   0   0   0]\n",
            " [  0   0   0   0   0   0   0   0   0   0   0   0   0   0   0   0   0   0   0   0   0   0   0   0   0   0   0   0]\n",
            " [  0   0   0   0   0   0   0   0   0   0   0   0   0   0   0   0   0   0   0   0   0   0   0   0   0   0   0   0]\n",
            " [  0   0   0   0   0   0   0   0   0   0   0   0   0   0   0   0   0   0   0   0   0   0   0   0   0   0   0   0]]\n"
          ],
          "name": "stdout"
        },
        {
          "output_type": "display_data",
          "data": {
            "image/png": "[encoded data removed]",
            "text/plain": [
              "<matplotlib.figure.Figure at 0x7fc007a20da0>"
            ]
          },
          "metadata": {
            "tags": []
          }
        }
      ]
    },
    {
      "metadata": {
        "id": "pyquwCxNsLSm",
        "colab_type": "code",
        "colab": {}
      },
      "cell_type": "code",
      "source": [
        "# Look at confusion matrix \n",
        "\n",
        "def plot_confusion_matrix(cm, classes,\n",
        "                          normalize=False,\n",
        "                          title='Confusion matrix',\n",
        "                          cmap=plt.cm.Blues):\n",
        "    \"\"\"\n",
        "    This function prints and plots the confusion matrix.\n",
        "    Normalization can be applied by setting `normalize=True`.\n",
        "    \"\"\"\n",
        "    plt.imshow(cm, interpolation='nearest', cmap=cmap)\n",
        "    plt.title(title)\n",
        "    plt.colorbar()\n",
        "    tick_marks = np.arange(len(classes))\n",
        "    plt.xticks(tick_marks, classes, rotation=45)\n",
        "    plt.yticks(tick_marks, classes)\n",
        "\n",
        "    if normalize:\n",
        "        cm = cm.astype('float') / cm.sum(axis=1)[:, np.newaxis]\n",
        "\n",
        "    thresh = cm.max() / 2.\n",
        "    for i, j in itertools.product(range(cm.shape[0]), range(cm.shape[1])):\n",
        "        plt.text(j, i, cm[i, j],\n",
        "                 horizontalalignment=\"center\",\n",
        "                 color=\"white\" if cm[i, j] > thresh else \"black\")\n",
        "\n",
        "    plt.tight_layout()\n",
        "    plt.ylabel('Actual class')\n",
        "    plt.xlabel('Predicted class')\n",
        "\n"
      ],
      "execution_count": 0,
      "outputs": []
    },
    {
      "metadata": {
        "id": "n69XfD1kUzC8",
        "colab_type": "text"
      },
      "cell_type": "markdown",
      "source": [
        "#### Confusion Matrix for ANN"
      ]
    },
    {
      "metadata": {
        "id": "njlli10qsLSo",
        "colab_type": "code",
        "outputId": "f17b4fe8-c3de-498b-e721-9ac634a467cd",
        "colab": {
          "base_uri": "https://localhost:8080/",
          "height": 415
        }
      },
      "cell_type": "code",
      "source": [
        "from collections import Counter\n",
        "from sklearn.metrics import confusion_matrix\n",
        "import itertools\n",
        "\n",
        "# Predict the values from the validation dataset\n",
        "Y_pred = model.predict(x_test)\n",
        "# Convert predictions classes to one hot vectors \n",
        "Y_pred_classes = np.argmax(Y_pred, axis = 1) \n",
        "# Convert validation observations to one hot vectors\n",
        "Y_true = np.argmax(c_y_test, axis = 1) \n",
        "# compute the confusion matrix\n",
        "confusion_mtx = confusion_matrix(Y_true, Y_pred_classes) \n",
        "# plot the confusion matrix\n",
        "plot_confusion_matrix(confusion_mtx, classes = range(10))"
      ],
      "execution_count": 22,
      "outputs": [
        {
          "output_type": "display_data",
          "data": {
            "image/png": "[encoded data removed]",
            "text/plain": [
              "<matplotlib.figure.Figure at 0x7fc00a291e48>"
            ]
          },
          "metadata": {
            "tags": []
          }
        }
      ]
    },
    {
      "metadata": {
        "id": "Pk5h7ke7VBxO",
        "colab_type": "text"
      },
      "cell_type": "markdown",
      "source": [
        "##### Let's see where it was wrong"
      ]
    },
    {
      "metadata": {
        "id": "Hxhg3u1FU9Ol",
        "colab_type": "code",
        "outputId": "f3c6f602-d036-4d98-8c01-aa158ba93dcb",
        "colab": {
          "base_uri": "https://localhost:8080/",
          "height": 34
        }
      },
      "cell_type": "code",
      "source": [
        "Y_pred_classes = np.argmax(predictions, axis = 1) \n",
        "Y_true = np.argmax(c_y_test, axis = 1) \n",
        "diff = np.where(Y_pred_classes != Y_true)\n",
        "diff"
      ],
      "execution_count": 23,
      "outputs": [
        {
          "output_type": "execute_result",
          "data": {
            "text/plain": [
              "(array([   8,   15,   20, ..., 9985, 9992, 9998]),)"
            ]
          },
          "metadata": {
            "tags": []
          },
          "execution_count": 23
        }
      ]
    },
    {
      "metadata": {
        "id": "8keiGyehZT2x",
        "colab_type": "code",
        "outputId": "64a4f0ec-ba6c-422b-bc4e-7b8b35f16990",
        "colab": {
          "base_uri": "https://localhost:8080/",
          "height": 857
        }
      },
      "cell_type": "code",
      "source": [
        "pic_num = 20\n",
        "Display_Predict_Value(predictions, pic_num)\n",
        "Show_Pic_and_Value(x_test_o, y_test_o, pic_num)\n",
        "Display_Image_Matrix(x_test_o, pic_num)\n"
      ],
      "execution_count": 24,
      "outputs": [
        {
          "output_type": "stream",
          "text": [
            "Predicted Value for image 20 is 7\n",
            "9\n",
            "[[  0   0   0   0   0   0   0   0   0   0   0   0   0   0   0   0   0   0   0   0   0   0   0   0   0   0   0   0]\n",
            " [  0   0   0   0   0   0   0   0   0   0   0   0   0   0   0   0   0   0   0   0   0   0   0   0   0   0   0   0]\n",
            " [  0   0   0   0   0   0   0   0   0   0   0   0   0   0   0   0   0   0   0   0   0   0   0   0   0   0   0   0]\n",
            " [  0   0   0   0   0   0   0   0   0   0   0   0   0   0   0   0   0   0   0   0   0   0   0   0   0   0   0   0]\n",
            " [  0   0   0   0   0   0   0   0   0   0   0   0   0   0   0   0   0   0   0   0   0   0   0   0   0   0   0   0]\n",
            " [  0   0   0   0   0   0   0   0   0   0   0   0   0   0   0   0   0   0   0   0   0   0   0   0   0   0   0   0]\n",
            " [  0   0   0   0   0   0   0   0   0   0   0   0   0   0   0  31 140 193  44   0   0   0   0   0   0   0   0   0]\n",
            " [  0   0   0   0   0   0   0   0   0   0   0   0   0  38 146 240 254 254 228  48  77  46   0   0   0   0   0   0]\n",
            " [  0   0   0   0   0   0   0   0   0   0   0   2  43 230 254 254 254 254 254 241 254 197   2   0   0   0   0   0]\n",
            " [  0   0   0   0   0   0   0   0   0   0  21 130 254 254 254 239 252 254 254 254 254 237   4   0   0   0   0   0]\n",
            " [  0   0   0   0   0   0   0   0   0   0 154 254 254 249 104  71 198 254 254 254 234  57   0   0   0   0   0   0]\n",
            " [  0   0   0   0   0   0   0   0   2 173 252 252 206  51 120 215 254 254 254 254 184   0   0   0   0   0   0   0]\n",
            " [  0   0   0   0   0   0   0   0 112 254 254 215  87 247 254 254 254 254 254 217  31   0   0   0   0   0   0   0]\n",
            " [  0   0   0   0   0   0   0   5 231 254 254 254 254 254 236 128 196 254 254 119   0   0   0   0   0   0   0   0]\n",
            " [  0   0   0   0   0   0   0   3 197 254 254 245 238 131  17  46 247 254 199  14   0   0   0   0   0   0   0   0]\n",
            " [  0   0   0   0   0   0   0   0  16  92  88  40   0   0  12 173 254 242  38   0   0   0   0   0   0   0   0   0]\n",
            " [  0   0   0   0   0   0   0   0   0   0   0   0   0   0  95 254 254 155   0   0   0   0   0   0   0   0   0   0]\n",
            " [  0   0   0   0   0   0   0   0   0   0   0   0   0  18 210 254 225   6   0   0   0   0   0   0   0   0   0   0]\n",
            " [  0   0   0   0   0   0   0   0   0   0   0   0   0 197 254 254  99   0   0   0   0   0   0   0   0   0   0   0]\n",
            " [  0   0   0   0   0   0   0   0   0   0   0   0  34 242 254 179   3   0   0   0   0   0   0   0   0   0   0   0]\n",
            " [  0   0   0   0   0   0   0   0   0   0   0  27 223 254 225  30   0   0   0   0   0   0   0   0   0   0   0   0]\n",
            " [  0   0   0   0   0   0   0   0   0   0   0  77 254 255 127   0   0   0   0   0   0   0   0   0   0   0   0   0]\n",
            " [  0   0   0   0   0   0   0   0   0   0  54 238 254 248  53   0   0   0   0   0   0   0   0   0   0   0   0   0]\n",
            " [  0   0   0   0   0   0   0   0   0  11 183 254 254 231  41   0   0   0   0   0   0   0   0   0   0   0   0   0]\n",
            " [  0   0   0   0   0   0   0   0   0 113 254 254 230  48   0   0   0   0   0   0   0   0   0   0   0   0   0   0]\n",
            " [  0   0   0   0   0   0   0   0   0 110 239 126  25   0   0   0   0   0   0   0   0   0   0   0   0   0   0   0]\n",
            " [  0   0   0   0   0   0   0   0   0   0   0   0   0   0   0   0   0   0   0   0   0   0   0   0   0   0   0   0]\n",
            " [  0   0   0   0   0   0   0   0   0   0   0   0   0   0   0   0   0   0   0   0   0   0   0   0   0   0   0   0]]\n"
          ],
          "name": "stdout"
        },
        {
          "output_type": "display_data",
          "data": {
            "image/png": "[encoded data removed]",
            "text/plain": [
              "<matplotlib.figure.Figure at 0x7fc007a206a0>"
            ]
          },
          "metadata": {
            "tags": []
          }
        }
      ]
    },
    {
      "metadata": {
        "id": "jz6Qxbl8PqaO",
        "colab_type": "text"
      },
      "cell_type": "markdown",
      "source": [
        "## Now same thing with CNN model"
      ]
    },
    {
      "metadata": {
        "id": "9K1Oaf5fKIKC",
        "colab_type": "code",
        "outputId": "95658dcf-d5ef-4c73-a7b0-e1eb9a36978a",
        "colab": {
          "base_uri": "https://localhost:8080/",
          "height": 510
        }
      },
      "cell_type": "code",
      "source": [
        "img_rows, img_cols = 28, 28\n",
        "nb_classes = 10\n",
        "nb_epoch = 10\n",
        "\n",
        "nb_filters = 5 # the number of filters\n",
        "nb_pool = 2 # window size of pooling\n",
        "nb_conv = 3 # window size of filter\n",
        "\n",
        "# data\n",
        "(X_train, y_train), (X_test, y_test) = mnist.load_data()\n",
        "\n",
        "X_train = X_train.reshape(X_train.shape[0], img_cols, img_rows, 1)\n",
        "X_test = X_test.reshape(X_test.shape[0], img_cols, img_rows, 1)\n",
        "X_train = X_train.astype('float32')\n",
        "X_test = X_test.astype('float32')\n",
        "X_train /= 255\n",
        "X_test /= 255\n",
        "print('X_train shape:', X_train.shape)\n",
        "print(X_train.shape[0], 'train samples')\n",
        "print(X_test.shape[0], 'test samples')\n",
        "\n",
        "# convert class vectors to binary class matrices\n",
        "Y_train = to_categorical(y_train, nb_classes)\n",
        "Y_test = to_categorical(y_test, nb_classes)\n",
        "\n",
        "model1 = Sequential()\n",
        "model1.add(Convolution2D(nb_filters, nb_conv, nb_conv, input_shape=(img_cols, img_rows, 1)))\n",
        "model1.add(Activation('relu'))\n",
        "model1.add(Convolution2D(nb_filters, nb_conv, nb_conv))\n",
        "model1.add(Activation('relu'))\n",
        "model1.add(MaxPooling2D(pool_size=(nb_pool, nb_pool)))\n",
        "model1.add(Flatten())\n",
        "model1.add(Dense(128))\n",
        "model1.add(Activation('relu'))\n",
        "model1.add(Dense(nb_classes))\n",
        "model1.add(Activation('softmax'))\n",
        "\n",
        "model1.compile(loss='categorical_crossentropy', optimizer=\"adadelta\", metrics=['accuracy'])\n",
        "history1 = model1.fit(X_train, Y_train, nb_epoch=nb_epoch, batch_size=256, verbose=1)\n",
        "test_loss1, test_acc1 = model1.evaluate(X_test, Y_test)\n",
        "\n",
        "print('Test Loss: With ANN - {}, With CNN {}'.format(test_loss,test_loss1))\n",
        "print('Test Accuracy: With ANN - {}, With CNN {}'.format(test_acc,test_acc1))"
      ],
      "execution_count": 25,
      "outputs": [
        {
          "output_type": "stream",
          "text": [
            "X_train shape: (60000, 28, 28, 1)\n",
            "60000 train samples\n",
            "10000 test samples\n"
          ],
          "name": "stdout"
        },
        {
          "output_type": "stream",
          "text": [
            "/usr/local/lib/python3.6/dist-packages/ipykernel_launcher.py:27: UserWarning: Update your `Conv2D` call to the Keras 2 API: `Conv2D(5, (3, 3), input_shape=(28, 28, 1...)`\n",
            "/usr/local/lib/python3.6/dist-packages/ipykernel_launcher.py:29: UserWarning: Update your `Conv2D` call to the Keras 2 API: `Conv2D(5, (3, 3))`\n",
            "/usr/local/lib/python3.6/dist-packages/ipykernel_launcher.py:39: UserWarning: The `nb_epoch` argument in `fit` has been renamed `epochs`.\n"
          ],
          "name": "stderr"
        },
        {
          "output_type": "stream",
          "text": [
            "Epoch 1/10\n",
            "60000/60000 [==============================] - 5s 81us/step - loss: 0.3796 - acc: 0.8850\n",
            "Epoch 2/10\n",
            "60000/60000 [==============================] - 3s 44us/step - loss: 0.1093 - acc: 0.9673\n",
            "Epoch 3/10\n",
            "60000/60000 [==============================] - 3s 44us/step - loss: 0.0740 - acc: 0.9776\n",
            "Epoch 4/10\n",
            "60000/60000 [==============================] - 3s 44us/step - loss: 0.0578 - acc: 0.9822\n",
            "Epoch 5/10\n",
            "60000/60000 [==============================] - 3s 44us/step - loss: 0.0461 - acc: 0.9860\n",
            "Epoch 6/10\n",
            "60000/60000 [==============================] - 3s 44us/step - loss: 0.0379 - acc: 0.9883\n",
            "Epoch 7/10\n",
            "60000/60000 [==============================] - 3s 43us/step - loss: 0.0331 - acc: 0.9900\n",
            "Epoch 8/10\n",
            "60000/60000 [==============================] - 3s 44us/step - loss: 0.0280 - acc: 0.9912\n",
            "Epoch 9/10\n",
            "60000/60000 [==============================] - 3s 44us/step - loss: 0.0236 - acc: 0.9931\n",
            "Epoch 10/10\n",
            "60000/60000 [==============================] - 3s 44us/step - loss: 0.0205 - acc: 0.9940\n",
            "10000/10000 [==============================] - 1s 78us/step\n",
            "Test Loss: With ANN - 0.7621429103851318, With CNN 0.07244797091919464\n",
            "Test Accuracy: With ANN - 0.8507, With CNN 0.9774\n"
          ],
          "name": "stdout"
        }
      ]
    },
    {
      "metadata": {
        "id": "kcmJS6_-UnYS",
        "colab_type": "text"
      },
      "cell_type": "markdown",
      "source": [
        "#### Confusion Matrix for CNN"
      ]
    },
    {
      "metadata": {
        "id": "1ila3-2dUbPc",
        "colab_type": "code",
        "outputId": "d8c7562a-61c7-44e5-c14c-3aba49b2edbd",
        "colab": {
          "base_uri": "https://localhost:8080/",
          "height": 415
        }
      },
      "cell_type": "code",
      "source": [
        "# Predict the values from the validation dataset\n",
        "Y_pred = model1.predict(X_test)\n",
        "# Convert predictions classes to one hot vectors \n",
        "Y_pred_classes = np.argmax(Y_pred, axis = 1) \n",
        "# Convert validation observations to one hot vectors\n",
        "Y_true = np.argmax(Y_test, axis = 1) \n",
        "# compute the confusion matrix\n",
        "confusion_mtx = confusion_matrix(Y_true, Y_pred_classes) \n",
        "# plot the confusion matrix\n",
        "plot_confusion_matrix(confusion_mtx, classes = range(10))"
      ],
      "execution_count": 26,
      "outputs": [
        {
          "output_type": "display_data",
          "data": {
            "image/png": "[encoded data removed]",
            "text/plain": [
              "<matplotlib.figure.Figure at 0x7fbfefcca438>"
            ]
          },
          "metadata": {
            "tags": []
          }
        }
      ]
    },
    {
      "metadata": {
        "id": "pvjNDBhjgxJ9",
        "colab_type": "text"
      },
      "cell_type": "markdown",
      "source": [
        "#### Let's see what CNN got wrong"
      ]
    },
    {
      "metadata": {
        "id": "yQMeQvtTeINi",
        "colab_type": "code",
        "outputId": "dc78ebd1-afb7-4496-f4a7-3cc833bf3681",
        "colab": {
          "base_uri": "https://localhost:8080/",
          "height": 187
        }
      },
      "cell_type": "code",
      "source": [
        "predict = model1.predict(X_test)\n",
        "Y_pred_classes = np.argmax(predict, axis = 1) \n",
        "Y_true = np.argmax(Y_test, axis = 1) \n",
        "diff = np.where(Y_pred_classes != Y_true)\n",
        "diff"
      ],
      "execution_count": 27,
      "outputs": [
        {
          "output_type": "execute_result",
          "data": {
            "text/plain": [
              "(array([ 115,  244,  250,  282,  321,  340,  445,  447,  497,  543,  582,  583,  619,  659,  684,  707,  720,  726,  740,  881,  939,  947,  951,\n",
              "         956,  965, 1014, 1039, 1182, 1224, 1226, 1242, 1247, 1260, 1319, 1326, 1337, 1364, 1393, 1395, 1453, 1459, 1464, 1522, 1530, 1609, 1621,\n",
              "        1654, 1671, 1678, 1701, 1709, 1717, 1721, 1754, 1790, 1871, 1878, 1883, 1987, 2004, 2018, 2035, 2043, 2053, 2070, 2094, 2118, 2130, 2135,\n",
              "        2182, 2242, 2382, 2393, 2447, 2488, 2514, 2526, 2597, 2607, 2630, 2654, 2678, 2743, 2771, 2780, 2823, 2836, 2877, 2896, 2915, 2939, 2959,\n",
              "        2970, 2990, 2995, 3030, 3172, 3289, 3330, 3333, 3384, 3388, 3410, 3422, 3437, 3451, 3503, 3504, 3520, 3558, 3597, 3626, 3681, 3702, 3726,\n",
              "        3727, 3729, 3749, 3757, 3776, 3780, 3808, 3853, 3906, 3941, 3968, 4027, 4075, 4078, 4100, 4123, 4156, 4163, 4176, 4194, 4199, 4238, 4265,\n",
              "        4350, 4382, 4433, 4497, 4507, 4536, 4571, 4578, 4598, 4639, 4671, 4699, 4731, 4783, 4807, 4814, 4823, 4860, 4911, 4939, 4941, 4978, 4997,\n",
              "        5159, 5199, 5228, 5600, 5634, 5642, 5654, 5676, 5842, 5887, 5926, 5936, 5937, 5981, 5982, 5997, 6024, 6093, 6532, 6555, 6558, 6561, 6572,\n",
              "        6573, 6597, 6598, 6599, 6651, 6755, 6783, 6847, 7121, 7240, 7432, 7492, 7886, 8059, 8062, 8091, 8094, 8102, 8311, 8406, 8408, 8497, 8510,\n",
              "        8519, 8520, 8527, 9009, 9015, 9280, 9500, 9540, 9587, 9613, 9634, 9664, 9679, 9698, 9729, 9770, 9792, 9839, 9888]),)"
            ]
          },
          "metadata": {
            "tags": []
          },
          "execution_count": 27
        }
      ]
    },
    {
      "metadata": {
        "id": "SH74aOF3e9cC",
        "colab_type": "code",
        "outputId": "cdcb1de1-148b-44ae-988c-438feb1b1323",
        "colab": {
          "base_uri": "https://localhost:8080/",
          "height": 857
        }
      },
      "cell_type": "code",
      "source": [
        "pic_num = 9905\n",
        "Display_Predict_Value(predict, pic_num)\n",
        "Show_Pic_and_Value(x_test_o, y_test_o, pic_num)\n",
        "Display_Image_Matrix(x_test_o, pic_num)\n"
      ],
      "execution_count": 28,
      "outputs": [
        {
          "output_type": "stream",
          "text": [
            "Predicted Value for image 9905 is 7\n",
            "3\n",
            "[[  0   0   0   0   0   0   0   0   0   0   0   0   0   0   0   0   0   0   0   0   0   0   0   0   0   0   0   0]\n",
            " [  0   0   0   0   0   0   0   0   0   0   0   0   0   0   0   0   0   0   0   0   0   0   0   0   0   0   0   0]\n",
            " [  0   0   0   0   0   0   0   0   0   0   0   0   0   0   0   0   0   0   0   0   0   0   0   0   0   0   0   0]\n",
            " [  0   0   0   0   0   0   0   0   0   0   0   0   0   0   0   0   0   0   0   0   0   0   0   0   0   0   0   0]\n",
            " [  0   0   0   0   0   0   0   0   0   0   0   0   0   0   0   0   0   0   0   0   0   0   0   0   0   0   0   0]\n",
            " [  0   0   0   0   0   0   0   0   0   0   0   0   0   0   0   0   0   0   0   0   0   0   0   0   0   0   0   0]\n",
            " [  0   0   0   0   0   0   0   0   0   0   0   0   0  23 194 192 171   0   0   0   0   0   0   0   0   0   0   0]\n",
            " [  0   0   0   0   0   0   0   0   0   0   0   0  24 206 254 218  49   0   0   0   0   0   0   0   0   0   0   0]\n",
            " [  0   0   0   0   0   0   0   0   0   0   0 130 247 254 233 187 245 209 141 141  90  27   0   0   0   0   0   0]\n",
            " [  0   0   0   0   0   0   0   0   0   0  54 247 254 254 254 254 254 254 254 254 254 187   0   0   0   0   0   0]\n",
            " [  0   0   0   0   0   0   0   0   0   0   6 112 125 125 125 125 125 125 125 218 254 187   0   0   0   0   0   0]\n",
            " [  0   0   0   0   0   0   0   0   0   0   0   0   0   0   0   0   0   0 125 233 255 187   0   0   0   0   0   0]\n",
            " [  0   0   0   0   0   0   0   0   0   0   0   0   0   0   0   0   3 174 253 254 230  23   0   0   0   0   0   0]\n",
            " [  0   0   0   0   0   0   0   0   0   0   0   0   0   0   0   0 136 254 254 235  98   0   0   0   0   0   0   0]\n",
            " [  0   0   0   0   0   0   0   0   0   0   0   5   0   1   6 129 254 254 237  58   0   0   0   0   0   0   0   0]\n",
            " [  0   0   0   0   0   0   0   0   0  38 156 237 156 158 254 254 165  99   6   0   0   0   0   0   0   0   0   0]\n",
            " [  0   0   0   0   0   0   0   0  33 221 254 254 254 254 254 214  24   0   0   0   0   0   0   0   0   0   0   0]\n",
            " [  0   0   0   0   0   0   0   0 127 254 254 254 244 214 254 214  20   0   0   0   0   0   0   0   0   0   0   0]\n",
            " [  0   0   0   0   0   0   0   0 127 254 229  75  47   6 254 254  66   0   0   0   0   0   0   0   0   0   0   0]\n",
            " [  0   0   0   0   0   0   0   0   5  15  11   0   0  61 254 254  54   0   0   0   0   0   0   0   0   0   0   0]\n",
            " [  0   0   0   0   0   0   0   0   0   0   0   0   0 152 254 214   3   0   0   0   0   0   0   0   0   0   0   0]\n",
            " [  0   0   0   0   0   0   0   0   0   0   0   0   0 161 254 163   3   0   0   0   0   0   0   0   0   0   0   0]\n",
            " [  0   0   0   0   0   0   0   0   0   0   0   5  94 241 241  72   0   0   0   0   0   0   0   0   0   0   0   0]\n",
            " [  0   0   0   0   0   0   0   0   0   0   3  69 254 250 194   0   0   0   0   0   0   0   0   0   0   0   0   0]\n",
            " [  0   0   0   0   0   0   0   0   0   0  97 254 254 122   0   0   0   0   0   0   0   0   0   0   0   0   0   0]\n",
            " [  0   0   0   0   0   0   0   0  35 200 241 254 118   8   0   0   0   0   0   0   0   0   0   0   0   0   0   0]\n",
            " [  0   0   0   0   0   0   0   0   0   0   0   0   0   0   0   0   0   0   0   0   0   0   0   0   0   0   0   0]\n",
            " [  0   0   0   0   0   0   0   0   0   0   0   0   0   0   0   0   0   0   0   0   0   0   0   0   0   0   0   0]]\n"
          ],
          "name": "stdout"
        },
        {
          "output_type": "display_data",
          "data": {
            "image/png": "[encoded data removed]",
            "text/plain": [
              "<matplotlib.figure.Figure at 0x7fbfefd1d320>"
            ]
          },
          "metadata": {
            "tags": []
          }
        }
      ]
    },
    {
      "metadata": {
        "id": "PpCNvTkPg8qm",
        "colab_type": "text"
      },
      "cell_type": "markdown",
      "source": [
        "#### Comparasion between two neural networks"
      ]
    },
    {
      "metadata": {
        "id": "L5QcmLitRXsU",
        "colab_type": "code",
        "outputId": "c7c0571b-c9b1-4167-a088-d11310128a23",
        "colab": {
          "base_uri": "https://localhost:8080/",
          "height": 376
        }
      },
      "cell_type": "code",
      "source": [
        "plt.plot(history1.history['acc'])\n",
        "plt.plot(history.history['acc'])\n",
        "plt.title('Simple ANN Vs CNN Accuracy')\n",
        "plt.ylabel('Accuracy')\n",
        "plt.xlabel('Epoch')\n",
        "plt.legend(['With CNN', 'With Simple ANN'], loc='lower right')\n",
        "plt.show()"
      ],
      "execution_count": 29,
      "outputs": [
        {
          "output_type": "display_data",
          "data": {
            "image/png": "[encoded data removed]",
            "text/plain": [
              "<matplotlib.figure.Figure at 0x7fbfefd519b0>"
            ]
          },
          "metadata": {
            "tags": []
          }
        }
      ]
    }
  ]
}